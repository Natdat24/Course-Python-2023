{
 "cells": [
  {
   "cell_type": "markdown",
   "id": "1561554f",
   "metadata": {},
   "source": [
    "В цьому домашньому завданні вже є якісь частини коду та в кожному завданні описано, що з ними треба зробити, часто - просто виконати після того, як ви напишете частину, якої поки не вистачає. Пишіть, будь ласка, код, який реалізує рішення кожного завдання, безпосереньо під формулюванням завдання, створюючи нові клітинки. Можете створювати скільки завгодно клітинок для виконання одного завдання. "
   ]
  },
  {
   "cell_type": "markdown",
   "id": "0a6cdc68",
   "metadata": {},
   "source": [
    "1.Напишіть функцію `is_even`, яка для заданого числа визначає, чи воно є парним (тобто ділиться на 2 без остачі, наприклад 4, 10, 102). Функція має вертати результат типу bool.\n",
    "Продемонструйте результати робити функції запустивши код нижче."
   ]
  },
  {
   "cell_type": "code",
   "execution_count": 1,
   "id": "683c4a24",
   "metadata": {},
   "outputs": [],
   "source": [
    "def is_even(digit):\n",
    "    return(bool(digit % 2 == 0))"
   ]
  },
  {
   "cell_type": "code",
   "execution_count": 2,
   "id": "d330f7a5",
   "metadata": {
    "ExecuteTime": {
     "end_time": "2022-10-22T08:25:20.700754Z",
     "start_time": "2022-10-22T08:25:20.680503Z"
    }
   },
   "outputs": [
    {
     "data": {
      "text/plain": [
       "[False, True, False, False, True]"
      ]
     },
     "execution_count": 2,
     "metadata": {},
     "output_type": "execute_result"
    }
   ],
   "source": [
    "[is_even(digit) for digit in [101, 2002, 3043, 5015, 8222]]"
   ]
  },
  {
   "cell_type": "markdown",
   "id": "b114762c",
   "metadata": {
    "ExecuteTime": {
     "end_time": "2022-10-22T04:15:21.939494Z",
     "start_time": "2022-10-22T04:15:21.933981Z"
    }
   },
   "source": [
    "2.Напишіть функцію `get_random_int_list`, яка вертає задану кількість випадкових цілих чисел з діапазону від 0 до 100. Для генерації випадкових чисел, скористуйтесь модулем random. Продемонструйте результат роботи функції, запустивши код нижче."
   ]
  },
  {
   "cell_type": "code",
   "execution_count": 64,
   "id": "0235ed2d",
   "metadata": {},
   "outputs": [
    {
     "name": "stdout",
     "output_type": "stream",
     "text": [
      "Yes 70\n"
     ]
    }
   ],
   "source": [
    "import random\n",
    "\n",
    "def get_random_int_list(number):\n",
    "    if number <= 100:\n",
    "       return 'Yes'\n",
    "number = random.randint(1,100)\n",
    "print ('Yes', number)"
   ]
  },
  {
   "cell_type": "code",
   "execution_count": 65,
   "id": "c2d9628d",
   "metadata": {
    "ExecuteTime": {
     "end_time": "2022-10-22T08:28:53.439808Z",
     "start_time": "2022-10-22T08:28:53.434855Z"
    }
   },
   "outputs": [
    {
     "data": {
      "text/plain": [
       "'Yes'"
      ]
     },
     "execution_count": 65,
     "metadata": {},
     "output_type": "execute_result"
    }
   ],
   "source": [
    "get_random_int_list(8)"
   ]
  },
  {
   "cell_type": "markdown",
   "id": "23d6eb7c",
   "metadata": {},
   "source": [
    "3.У наступному фрагменті коду для 5-ти людей розраховується  [індекс маси тіла (BMI)](https://uk.wikipedia.org/wiki/%D0%86%D0%BD%D0%B4%D0%B5%D0%BA%D1%81_%D0%BC%D0%B0%D1%81%D0%B8_%D1%82%D1%96%D0%BB%D0%B0#:~:text=%D0%86%CC%81%D0%BD%D0%B4%D0%B5%D0%BA%D1%81%20%D0%BC%D0%B0%CC%81%D1%81%D0%B8%20%D1%82%D1%96%CC%81%D0%BB%D0%B0%20(%D0%86%D0%9C%D0%A2%2C%20%D0%B0%D0%BD%D0%B3%D0%BB,%D0%BD%D0%BE%D1%80%D0%BC%D0%B0%D0%BB%D1%8C%D0%BD%D0%BE%D1%8E%2C%20%D0%BD%D0%B0%D0%B4%D0%BC%D1%96%D1%80%D0%BD%D0%BE%D1%8E%20(%D0%BE%D0%B6%D0%B8%D1%80%D1%96%D0%BD%D0%BD%D1%8F%D0%BC) пʼяти осіб. Для обчислення індексу маси тіла треба розділити вагу на зріст, піднесений до квадрату. \n",
    "\n",
    "Виділіть у функцію код, що дублюється (робить логічно одне і те ж саме) у цьому фрагменті коду так, аби результат виводився **той самий**. Такого плану зміни коду в розробці називаються \"рефакторинг\" :)  \n",
    "В кінці - запустіть свій відрефакторений фрагмент коду.\n",
    "\n",
    "Увага: очевидно, можна обгорнути даний код у функцію по-різному. Єдиної правильної відповіді нема. Буде перевірятись розуміння підходу \"винесення частин, що повторюються, у функцію\"."
   ]
  },
  {
   "cell_type": "code",
   "execution_count": 1,
   "id": "eb0eea8a",
   "metadata": {
    "ExecuteTime": {
     "end_time": "2022-10-22T09:13:20.937195Z",
     "start_time": "2022-10-22T09:13:20.858878Z"
    }
   },
   "outputs": [
    {
     "name": "stdout",
     "output_type": "stream",
     "text": [
      "bmi person1 = 30\n",
      "bmi person2 = 29\n",
      "bmi person3 = 29\n",
      "bmi person4 = 24\n",
      "bmi person5 = 28\n"
     ]
    }
   ],
   "source": [
    "person1 = [80, 1.62]\n",
    "person2 = [69, 1.53]\n",
    "person3 = [80, 1.66]\n",
    "person4 = [80, 1.79]\n",
    "person5 = [72, 1.60]\n",
    "\n",
    "bmi_person1 = int(person1[0] / person1[1]**2)\n",
    "print(\"bmi {} = {}\".format('person1', bmi_person1))\n",
    "\n",
    "bmi_person2 = int(person2[0] / person2[1]**2)\n",
    "print(\"bmi {} = {}\".format('person2', bmi_person2))\n",
    "\n",
    "bmi_person3 = int(person3[0] / person3[1]**2)\n",
    "print(\"bmi {} = {}\".format('person3', bmi_person3))\n",
    "\n",
    "bmi_person4 = int(person4[0] / person4[1]**2)\n",
    "print(\"bmi {} = {}\".format('person4', bmi_person4))\n",
    "\n",
    "bmi_person5 = int(person5[0] / person5[1]**2)\n",
    "print(\"bmi {} = {}\".format('person5', bmi_person5))"
   ]
  },
  {
   "cell_type": "code",
   "execution_count": 2,
   "id": "970b4ac5",
   "metadata": {},
   "outputs": [],
   "source": [
    "persons_data = list(person1 + person2 + person3 + person4 + person5) "
   ]
  },
  {
   "cell_type": "code",
   "execution_count": 3,
   "id": "b0841986",
   "metadata": {},
   "outputs": [
    {
     "name": "stdout",
     "output_type": "stream",
     "text": [
      "[80, 1.62, 69, 1.53, 80, 1.66, 80, 1.79, 72, 1.6]\n"
     ]
    }
   ],
   "source": [
    "print (persons_data)"
   ]
  },
  {
   "cell_type": "code",
   "execution_count": 4,
   "id": "aef1a7c1",
   "metadata": {},
   "outputs": [],
   "source": [
    "persons_list = [['person1', 80, 1.62], ['person2', 69, 1.53], ['person3', 80, 1.66]]"
   ]
  },
  {
   "cell_type": "code",
   "execution_count": 37,
   "id": "9a578c75",
   "metadata": {},
   "outputs": [],
   "source": [
    "person = [person1,person2,person3]\n",
    "weight = [80,69,80]\n",
    "height = [1.62,1.53,1.66]"
   ]
  },
  {
   "cell_type": "code",
   "execution_count": 38,
   "id": "169dcb25",
   "metadata": {},
   "outputs": [],
   "source": [
    "def persons_bmi_indx (name,weight,height):\n",
    "    for person in persons_list[indx]:\n",
    "        name = person[0]\n",
    "        weight = person[1]\n",
    "        height = person[2]\n",
    "        bmi = int (weight / height**2)\n",
    "    person.append(bmi)"
   ]
  },
  {
   "cell_type": "code",
   "execution_count": 39,
   "id": "d2bbe639",
   "metadata": {},
   "outputs": [
    {
     "ename": "TypeError",
     "evalue": "persons_bmi_indx() missing 1 required positional argument: 'height'",
     "output_type": "error",
     "traceback": [
      "\u001b[1;31m---------------------------------------------------------------------------\u001b[0m",
      "\u001b[1;31mTypeError\u001b[0m                                 Traceback (most recent call last)",
      "\u001b[1;32m~\\AppData\\Local\\Temp\\ipykernel_121652\\1998966382.py\u001b[0m in \u001b[0;36m<module>\u001b[1;34m\u001b[0m\n\u001b[1;32m----> 1\u001b[1;33m \u001b[0mprint\u001b[0m \u001b[1;33m(\u001b[0m\u001b[0mpersons_bmi_indx\u001b[0m\u001b[1;33m(\u001b[0m\u001b[1;36m80\u001b[0m\u001b[1;33m,\u001b[0m\u001b[1;36m1.62\u001b[0m\u001b[1;33m)\u001b[0m\u001b[1;33m)\u001b[0m\u001b[1;33m\u001b[0m\u001b[1;33m\u001b[0m\u001b[0m\n\u001b[0m",
      "\u001b[1;31mTypeError\u001b[0m: persons_bmi_indx() missing 1 required positional argument: 'height'"
     ]
    }
   ],
   "source": [
    "print (persons_bmi_indx(80,1.62))"
   ]
  },
  {
   "cell_type": "markdown",
   "id": "3ba9c768",
   "metadata": {
    "ExecuteTime": {
     "end_time": "2022-10-22T09:44:07.936985Z",
     "start_time": "2022-10-22T09:44:07.861792Z"
    }
   },
   "source": [
    "4.Напишіть функцію `distance`, яка вимірює відстань між двома точками на лінії. Тобто нам треба знайти модуль різниці двох чисел (дивись картинку і формулу нижче). Функція має приймати на вхід два параметри, перевіряти, що обидва з них є чисельного типу (тобто або цілим числом, або числом з плаваючою комою):\n",
    "- якщо так, то функція вертає результат обчислення, \n",
    "- якщо типи неправильні, то у функції підіймається виняток з повідомленням \"Неправильний тип даних одного або обох введених чисел\". Виняток може бути як користувацького типу (тобто ви визначили свій тип винятку), або стандартний Exception з вашим повідомленням, що розповідає про помилку, яка сталася.\n",
    "\n",
    "Аби обчислити модуль скористайтесь функцією `abs`."
   ]
  },
  {
   "cell_type": "markdown",
   "id": "4785a35b",
   "metadata": {},
   "source": [
    "Після написання функції `distance`, запустіть наступний код:"
   ]
  },
  {
   "cell_type": "code",
   "execution_count": 40,
   "id": "3e26b0e0",
   "metadata": {},
   "outputs": [
    {
     "name": "stdout",
     "output_type": "stream",
     "text": [
      "Неправильний тип даних одного або обох введених чисел {x1,x2} це {abs_x1,x2}\n"
     ]
    }
   ],
   "source": [
    "def distance (x1, x2):\n",
    "    distance = x1 - x2\n",
    "    result = int(x1, x2) \n",
    "    return result\n",
    "print(\"Неправильний тип даних одного або обох введених чисел {x1,x2} це {abs_x1,x2}\")"
   ]
  },
  {
   "cell_type": "code",
   "execution_count": 27,
   "id": "a46419fc",
   "metadata": {},
   "outputs": [],
   "source": [
    "x1 = 2\n",
    "x2 = 3"
   ]
  },
  {
   "cell_type": "code",
   "execution_count": 28,
   "id": "3818fba8",
   "metadata": {
    "ExecuteTime": {
     "end_time": "2022-10-22T09:55:22.957399Z",
     "start_time": "2022-10-22T09:55:22.918566Z"
    }
   },
   "outputs": [
    {
     "ename": "TypeError",
     "evalue": "int() can't convert non-string with explicit base",
     "output_type": "error",
     "traceback": [
      "\u001b[1;31m---------------------------------------------------------------------------\u001b[0m",
      "\u001b[1;31mTypeError\u001b[0m                                 Traceback (most recent call last)",
      "\u001b[1;32m~\\AppData\\Local\\Temp\\ipykernel_121652\\1764470432.py\u001b[0m in \u001b[0;36m<module>\u001b[1;34m\u001b[0m\n\u001b[1;32m----> 1\u001b[1;33m \u001b[0mprint\u001b[0m\u001b[1;33m(\u001b[0m\u001b[0mdistance\u001b[0m\u001b[1;33m(\u001b[0m\u001b[1;36m1\u001b[0m\u001b[1;33m,\u001b[0m\u001b[1;36m2\u001b[0m\u001b[1;33m)\u001b[0m\u001b[1;33m)\u001b[0m\u001b[1;33m\u001b[0m\u001b[1;33m\u001b[0m\u001b[0m\n\u001b[0m\u001b[0;32m      2\u001b[0m \u001b[0mprint\u001b[0m\u001b[1;33m(\u001b[0m\u001b[0mdistance\u001b[0m\u001b[1;33m(\u001b[0m\u001b[1;36m1011\u001b[0m\u001b[1;33m,\u001b[0m\u001b[1;36m2\u001b[0m\u001b[1;33m)\u001b[0m\u001b[1;33m)\u001b[0m\u001b[1;33m\u001b[0m\u001b[1;33m\u001b[0m\u001b[0m\n\u001b[0;32m      3\u001b[0m \u001b[0mprint\u001b[0m\u001b[1;33m(\u001b[0m\u001b[0mdistance\u001b[0m\u001b[1;33m(\u001b[0m\u001b[1;33m-\u001b[0m\u001b[1;36m199\u001b[0m\u001b[1;33m,\u001b[0m \u001b[1;36m1555\u001b[0m\u001b[1;33m)\u001b[0m\u001b[1;33m)\u001b[0m\u001b[1;33m\u001b[0m\u001b[1;33m\u001b[0m\u001b[0m\n\u001b[0;32m      4\u001b[0m \u001b[0mprint\u001b[0m\u001b[1;33m(\u001b[0m\u001b[0mdistance\u001b[0m\u001b[1;33m(\u001b[0m\u001b[1;34m'2121'\u001b[0m\u001b[1;33m,\u001b[0m \u001b[1;36m123\u001b[0m\u001b[1;33m)\u001b[0m\u001b[1;33m)\u001b[0m\u001b[1;33m\u001b[0m\u001b[1;33m\u001b[0m\u001b[0m\n",
      "\u001b[1;32m~\\AppData\\Local\\Temp\\ipykernel_121652\\699124669.py\u001b[0m in \u001b[0;36mdistance\u001b[1;34m(x1, x2)\u001b[0m\n\u001b[0;32m      1\u001b[0m \u001b[1;32mdef\u001b[0m \u001b[0mdistance\u001b[0m \u001b[1;33m(\u001b[0m\u001b[0mx1\u001b[0m\u001b[1;33m,\u001b[0m \u001b[0mx2\u001b[0m\u001b[1;33m)\u001b[0m\u001b[1;33m:\u001b[0m\u001b[1;33m\u001b[0m\u001b[1;33m\u001b[0m\u001b[0m\n\u001b[0;32m      2\u001b[0m     \u001b[0mdistance\u001b[0m \u001b[1;33m=\u001b[0m \u001b[0mx1\u001b[0m \u001b[1;33m-\u001b[0m \u001b[0mx2\u001b[0m\u001b[1;33m\u001b[0m\u001b[1;33m\u001b[0m\u001b[0m\n\u001b[1;32m----> 3\u001b[1;33m     \u001b[0mresult\u001b[0m \u001b[1;33m=\u001b[0m \u001b[0mint\u001b[0m\u001b[1;33m(\u001b[0m\u001b[0mx1\u001b[0m\u001b[1;33m,\u001b[0m \u001b[0mx2\u001b[0m\u001b[1;33m)\u001b[0m\u001b[1;33m\u001b[0m\u001b[1;33m\u001b[0m\u001b[0m\n\u001b[0m\u001b[0;32m      4\u001b[0m     \u001b[1;32mreturn\u001b[0m \u001b[0mresult\u001b[0m\u001b[1;33m\u001b[0m\u001b[1;33m\u001b[0m\u001b[0m\n\u001b[0;32m      5\u001b[0m \u001b[0mprint\u001b[0m\u001b[1;33m(\u001b[0m\u001b[1;34m\"Неправильний тип даних одного або обох введених чисел {x1,x2} це {abs_x1,x2}\"\u001b[0m\u001b[1;33m)\u001b[0m\u001b[1;33m\u001b[0m\u001b[1;33m\u001b[0m\u001b[0m\n",
      "\u001b[1;31mTypeError\u001b[0m: int() can't convert non-string with explicit base"
     ]
    }
   ],
   "source": [
    "print(distance(1,2))\n",
    "print(distance(1011,2))\n",
    "print(distance(-199, 1555))\n",
    "print(distance('2121', 123))"
   ]
  },
  {
   "cell_type": "markdown",
   "id": "5f983749",
   "metadata": {},
   "source": [
    "5.Нижче є створений клас \"Shop\". Це клас для визначення магазинів компанії \"АВС\". У кожного магазина є локація і прибуток. Створіть три магазини в трьох окремих змінних:  \n",
    "- один з локацією \"Київ\" та прибутком 5500,   \n",
    "- другий - з локацією \"Львів\" та прибутком 3000,  \n",
    "- третій - з локацією \"Полтава\" та прибутком 2500  \n",
    "\n",
    "Порахуйте після цього суму прибутків трьох магазинів використовуючи інформацію про створені магазини.\n",
    "Виведіть сумарний прибуток на екран."
   ]
  },
  {
   "cell_type": "code",
   "execution_count": 54,
   "id": "84cb2eb2",
   "metadata": {
    "ExecuteTime": {
     "end_time": "2022-10-22T10:05:31.337430Z",
     "start_time": "2022-10-22T10:05:31.321277Z"
    }
   },
   "outputs": [],
   "source": [
    "class Shop:\n",
    "    company = 'ABC'\n",
    "\n",
    "    def __init__(self, location, profit):\n",
    "        self.location = location\n",
    "        self.profit = profit"
   ]
  },
  {
   "cell_type": "code",
   "execution_count": 55,
   "id": "afeb2dce",
   "metadata": {},
   "outputs": [],
   "source": [
    "Shop = ('Київ', 5500)"
   ]
  },
  {
   "cell_type": "code",
   "execution_count": 56,
   "id": "b4077ed9",
   "metadata": {},
   "outputs": [],
   "source": [
    "Shop = ('Львів', 3000)"
   ]
  },
  {
   "cell_type": "code",
   "execution_count": 57,
   "id": "fc272d30",
   "metadata": {},
   "outputs": [],
   "source": [
    "Shop = ('Полтава', 2500)"
   ]
  },
  {
   "cell_type": "markdown",
   "id": "3feaa824",
   "metadata": {
    "ExecuteTime": {
     "end_time": "2022-10-22T10:12:49.668479Z",
     "start_time": "2022-10-22T10:12:49.636219Z"
    }
   },
   "source": [
    "6.Створіть клас `Employee`, який при ініціалізації представника класу визначає поля \"Прізвище\", \"Місяць народження\" та \"Зарплата\" та запустіть код нижче."
   ]
  },
  {
   "cell_type": "code",
   "execution_count": 89,
   "id": "5850a071",
   "metadata": {},
   "outputs": [],
   "source": [
    "class Employee:\n",
    "    \n",
    "    def __init__(self, name, month_birthday , salary ):\n",
    "        self.name = name\n",
    "        self.month_birthday = month_birthday\n",
    "        self.salary = salary"
   ]
  },
  {
   "cell_type": "code",
   "execution_count": 90,
   "id": "b0fcc9f2",
   "metadata": {
    "ExecuteTime": {
     "end_time": "2022-10-22T10:17:27.305480Z",
     "start_time": "2022-10-22T10:17:27.302072Z"
    }
   },
   "outputs": [],
   "source": [
    "emp_1 = Employee('Чорненко', 'жовтень', 2000)\n",
    "emp_2 = Employee('Біленко', 'січень', 3000)\n",
    "emp_3 = Employee('Жовтенко', 'березень', 3400)"
   ]
  },
  {
   "cell_type": "markdown",
   "id": "d6d285b8",
   "metadata": {
    "ExecuteTime": {
     "end_time": "2022-10-22T10:17:28.531508Z",
     "start_time": "2022-10-22T10:17:28.526117Z"
    }
   },
   "source": [
    "7.До класу `Employee` додайте метод `salutate`, який вітатиме з **місяцем** народження. Аби додати метод - скопіюйте просто код з визначенням класа з попереднього завдання і додайте туди новий метод.  \n",
    "Метод має приймати на вхід заданий місяць і \n",
    "- якщо цей місяць співпадає з місяцем народження співробітника, виводить `Вітаємо, пане <прізвище співробітника>! Зараз місяць <назва місяця> у Вас День народження! Будьте здорові!`. Для формування привітання використайте інтерполяцію рядків. \n",
    "- якщо місяць не співпадає з місяцем народження співробітника, метод нічого не вертає.  \n",
    "\n",
    "Коли зробите завдання - запустіть код нижче."
   ]
  },
  {
   "cell_type": "code",
   "execution_count": 119,
   "id": "be3e17d7",
   "metadata": {},
   "outputs": [],
   "source": [
    "class Employee:\n",
    "    \n",
    "    def __init__(self, name, month_birthday, salary ):\n",
    "        self.name = name\n",
    "        self.month_birthday = month_birthday\n",
    "        self.salary = salary\n",
    "    \n",
    "    def salutate(self, month): \n",
    "        if self.month_birthday == month:\n",
    "            print (\"Вітаємо, пане {self.name}! Зараз місяць {self.month_birthday} у Вас День народження! Будьте здорові! \") "
   ]
  },
  {
   "cell_type": "code",
   "execution_count": 120,
   "id": "056e127e",
   "metadata": {
    "ExecuteTime": {
     "end_time": "2022-10-22T10:26:35.300805Z",
     "start_time": "2022-10-22T10:26:35.294501Z"
    }
   },
   "outputs": [
    {
     "name": "stdout",
     "output_type": "stream",
     "text": [
      "Вітаємо, пане {self.name}! Зараз місяць {self.month_birthday} у Вас День народження! Будьте здорові! \n"
     ]
    }
   ],
   "source": [
    "emp_1 = Employee('Чорненко', 'жовтень', 2000)\n",
    "emp_2 = Employee('Біленко', 'січень', 3000)\n",
    "emp_3 = Employee('Жовтенко', 'березень', 3400)\n",
    "\n",
    "emp_1.salutate('грудень')\n",
    "emp_2.salutate('січень')\n",
    "emp_3.salutate('травень')"
   ]
  },
  {
   "cell_type": "markdown",
   "id": "ca02deba",
   "metadata": {},
   "source": [
    "8.Створіть клас, який наслідує `Employee` та називається `BossEmployee`. У цього класа при ініціалізації є всі ті самі поля, що і в Employee, але також є поле `n_subordinates`, тобто \"кількість підлеглих\". \n",
    "\n",
    "Додайте новоствореному класу метод `add_subordinates`, який додаватиме передану в метод кількість підлеглих цьому босу (тобто буде оновлювати поле класу `n_subordinates`) та буде виводити повідомлення `Вітаємо, пане <прізвище співробітника>! У Вас <введене в метод число> нових співробітників!`. Перевірте, аби кількість нових підлеглих була цілою, якщо це не так, виведіть повідомлення: `Число <введене в метод число, округлене до трьох чисел після коми> не може бути кількістю підлеглих.`. \n",
    "\n",
    "Для формування повідомлень використайте метод форматування рядків, котрий був другим в лекції (з `format` частиною).\n",
    "Коли зробите завдання - запустіть код нижче."
   ]
  },
  {
   "cell_type": "code",
   "execution_count": 41,
   "id": "ac4f01e7",
   "metadata": {},
   "outputs": [
    {
     "ename": "SyntaxError",
     "evalue": "invalid syntax (3858326618.py, line 9)",
     "output_type": "error",
     "traceback": [
      "\u001b[1;36m  File \u001b[1;32m\"C:\\Users\\gnvda\\AppData\\Local\\Temp\\ipykernel_121652\\3858326618.py\"\u001b[1;36m, line \u001b[1;32m9\u001b[0m\n\u001b[1;33m    def add_subordinates(self, add_subordinates)\u001b[0m\n\u001b[1;37m                                                ^\u001b[0m\n\u001b[1;31mSyntaxError\u001b[0m\u001b[1;31m:\u001b[0m invalid syntax\n"
     ]
    }
   ],
   "source": [
    "class BossEmployee (Employee):\n",
    "    \n",
    "    def __init__(self, name, month_birthday, salary, n_subordinates):\n",
    "        self.name = name\n",
    "        self.month_birthday = month_birthday\n",
    "        self.salary = salary\n",
    "        self.n_subordinates = n_subordinates\n",
    "        \n",
    "    def add_subordinates(self, add_subordinates)\n",
    "        self.add_subordinates = add_subordinates:\n",
    "        if type (self.add_subordinates) == int:\n",
    "            print (\"Вітаємо, пане {name}! У Вас {add_subordinates} нових співробітників!\")\n",
    "        elif type (self.add_subordinates) <= 5:\n",
    "            print (\"Число {n_subordinates:3} не може бути кількістю підлеглих\")"
   ]
  },
  {
   "cell_type": "code",
   "execution_count": 35,
   "id": "b6e5e6c0",
   "metadata": {
    "ExecuteTime": {
     "end_time": "2022-10-22T10:44:43.938323Z",
     "start_time": "2022-10-22T10:44:43.932171Z"
    }
   },
   "outputs": [
    {
     "ename": "NameError",
     "evalue": "name 'BossEmployee' is not defined",
     "output_type": "error",
     "traceback": [
      "\u001b[1;31m---------------------------------------------------------------------------\u001b[0m",
      "\u001b[1;31mNameError\u001b[0m                                 Traceback (most recent call last)",
      "\u001b[1;32m~\\AppData\\Local\\Temp\\ipykernel_121652\\52903711.py\u001b[0m in \u001b[0;36m<module>\u001b[1;34m\u001b[0m\n\u001b[1;32m----> 1\u001b[1;33m \u001b[0memp_4\u001b[0m \u001b[1;33m=\u001b[0m \u001b[0mBossEmployee\u001b[0m\u001b[1;33m(\u001b[0m\u001b[1;34m'Босенко'\u001b[0m\u001b[1;33m,\u001b[0m \u001b[1;34m'липень'\u001b[0m\u001b[1;33m,\u001b[0m \u001b[1;36m5500\u001b[0m\u001b[1;33m,\u001b[0m \u001b[1;36m3\u001b[0m\u001b[1;33m)\u001b[0m\u001b[1;33m\u001b[0m\u001b[1;33m\u001b[0m\u001b[0m\n\u001b[0m\u001b[0;32m      2\u001b[0m \u001b[0memp_4\u001b[0m\u001b[1;33m.\u001b[0m\u001b[0madd_subordinates\u001b[0m\u001b[1;33m(\u001b[0m\u001b[1;36m5\u001b[0m\u001b[1;33m)\u001b[0m\u001b[1;33m\u001b[0m\u001b[1;33m\u001b[0m\u001b[0m\n\u001b[0;32m      3\u001b[0m \u001b[0memp_4\u001b[0m\u001b[1;33m.\u001b[0m\u001b[0madd_subordinates\u001b[0m\u001b[1;33m(\u001b[0m\u001b[1;36m4.78764174\u001b[0m\u001b[1;33m)\u001b[0m\u001b[1;33m\u001b[0m\u001b[1;33m\u001b[0m\u001b[0m\n\u001b[0;32m      4\u001b[0m \u001b[0memp_4\u001b[0m\u001b[1;33m.\u001b[0m\u001b[0madd_subordinates\u001b[0m\u001b[1;33m(\u001b[0m\u001b[1;36m4\u001b[0m\u001b[1;33m)\u001b[0m\u001b[1;33m\u001b[0m\u001b[1;33m\u001b[0m\u001b[0m\n\u001b[0;32m      5\u001b[0m \u001b[0memp_4\u001b[0m\u001b[1;33m.\u001b[0m\u001b[0mn_subordinates\u001b[0m\u001b[1;33m\u001b[0m\u001b[1;33m\u001b[0m\u001b[0m\n",
      "\u001b[1;31mNameError\u001b[0m: name 'BossEmployee' is not defined"
     ]
    }
   ],
   "source": [
    "emp_4 = BossEmployee('Босенко', 'липень', 5500, 3)\n",
    "emp_4.add_subordinates(5)\n",
    "emp_4.add_subordinates(4.78764174)\n",
    "emp_4.add_subordinates(4)\n",
    "emp_4.n_subordinates"
   ]
  },
  {
   "cell_type": "markdown",
   "id": "c3e0bd00",
   "metadata": {},
   "source": [
    "Очікуваний результат виконання команд вище:\n",
    "```\n",
    "Вітаємо, пане Босенко! У Вас 5 нових співробітників!     \n",
    "Число 4.788 не може бути кількістю підлеглих.\n",
    "Вітаємо, пане Босенко! У Вас 4 нових співробітників!\n",
    "12\n",
    "```"
   ]
  },
  {
   "cell_type": "markdown",
   "id": "441e5d09",
   "metadata": {},
   "source": [
    "# Ураа!! Ви доробили ДРУГЕ домашнє завдання!!! З кожним ДЗ ви стаєте з Python все ближче і ближче. Ваші відносини зараз - він поставив вогник на вашу сторіс 😉\n",
    "В кінці курсу будете наче пити просеко на кухні і обговорювати останні мемчики.  \n",
    "\n",
    "Аби здати ДЗ - залийте ноутбук у гітхаб репозиторій, який ви створили у перші дні навчання на курсі, та додайте посилання на файл у відповідному завданні в Eduflow.\n",
    "Далі - ще цікавіше! 🚀🚀🚀"
   ]
  }
 ],
 "metadata": {
  "kernelspec": {
   "display_name": "Python 3 (ipykernel)",
   "language": "python",
   "name": "python3"
  },
  "language_info": {
   "codemirror_mode": {
    "name": "ipython",
    "version": 3
   },
   "file_extension": ".py",
   "mimetype": "text/x-python",
   "name": "python",
   "nbconvert_exporter": "python",
   "pygments_lexer": "ipython3",
   "version": "3.9.13"
  },
  "toc": {
   "base_numbering": 1,
   "nav_menu": {},
   "number_sections": true,
   "sideBar": true,
   "skip_h1_title": false,
   "title_cell": "Table of Contents",
   "title_sidebar": "Contents",
   "toc_cell": false,
   "toc_position": {},
   "toc_section_display": true,
   "toc_window_display": false
  }
 },
 "nbformat": 4,
 "nbformat_minor": 5
}
