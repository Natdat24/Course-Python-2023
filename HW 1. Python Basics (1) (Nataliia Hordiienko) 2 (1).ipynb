{
 "cells": [
  {
   "cell_type": "markdown",
   "id": "08f1c51f",
   "metadata": {
    "pycharm": {
     "name": "#%% md\n"
    }
   },
   "source": [
    "# Домашнє завдання до теми \"Python Basics\"\n",
    "В цьому ДЗ важливою умовою виконання завдань є те, що ми не імпортуємо жодних бібліотек, а робимо все на чистому Python, використовуючи лише базовий функціонал. Це необхідно аби відпрацювати роботу з базовими типами даних. А використовувати бібліотеки ми ще навчимось далі :)"
   ]
  },
  {
   "cell_type": "markdown",
   "id": "676db6ee",
   "metadata": {
    "ExecuteTime": {
     "end_time": "2022-10-15T22:38:58.278123Z",
     "start_time": "2022-10-15T22:38:58.274895Z"
    },
    "pycharm": {
     "name": "#%% md\n"
    }
   },
   "source": [
    "# Робота з рядками"
   ]
  },
  {
   "cell_type": "markdown",
   "id": "60423850",
   "metadata": {
    "pycharm": {
     "name": "#%% md\n"
    }
   },
   "source": [
    "1.Запишіть у змінну `name` ваше імʼя."
   ]
  },
  {
   "cell_type": "code",
   "execution_count": 18,
   "id": "473006f4",
   "metadata": {
    "pycharm": {
     "name": "#%%\n"
    }
   },
   "outputs": [
    {
     "name": "stdout",
     "output_type": "stream",
     "text": [
      "Nataliia\n"
     ]
    }
   ],
   "source": [
    "name ='Nataliia'\n",
    "print (name)"
   ]
  },
  {
   "cell_type": "markdown",
   "id": "4b3acd9d",
   "metadata": {
    "pycharm": {
     "name": "#%% md\n"
    }
   },
   "source": [
    "2.Запишіть у змінну `surname` ваше прізвище."
   ]
  },
  {
   "cell_type": "code",
   "execution_count": 19,
   "id": "c5defe1b",
   "metadata": {
    "pycharm": {
     "name": "#%%\n"
    }
   },
   "outputs": [
    {
     "name": "stdout",
     "output_type": "stream",
     "text": [
      "Hordiienko\n"
     ]
    }
   ],
   "source": [
    "surname = 'Hordiienko'\n",
    "print (surname)"
   ]
  },
  {
   "cell_type": "markdown",
   "id": "ab162f8e",
   "metadata": {
    "pycharm": {
     "name": "#%% md\n"
    }
   },
   "source": [
    "3.Сконкатенуйте імʼя та прізвище в одну фразу через пробіл. Запишіть результат у нову змінну `name_surname` та виведіть результат:"
   ]
  },
  {
   "cell_type": "code",
   "execution_count": 46,
   "id": "2b9328f0",
   "metadata": {},
   "outputs": [
    {
     "name": "stdout",
     "output_type": "stream",
     "text": [
      "Nataliia Hordiienko\n"
     ]
    }
   ],
   "source": [
    "name_surname = name + ' ' + surname\n",
    "print  (name_surname)"
   ]
  },
  {
   "cell_type": "markdown",
   "id": "77e679dd",
   "metadata": {
    "pycharm": {
     "name": "#%% md\n"
    }
   },
   "source": [
    "Очікувана відповідь (тільки з вашими даними): 'Hanna Pylieva' "
   ]
  },
  {
   "cell_type": "markdown",
   "id": "e68adcf7",
   "metadata": {
    "pycharm": {
     "name": "#%% md\n"
    }
   },
   "source": [
    "4.Зробіть усі літери змінної `name_surname` заглавними використовуючи вбудовану функцію Python для рядків:"
   ]
  },
  {
   "cell_type": "code",
   "execution_count": 47,
   "id": "1047cda3",
   "metadata": {
    "pycharm": {
     "name": "#%%\n"
    }
   },
   "outputs": [
    {
     "data": {
      "text/plain": [
       "'NATALIIA HORDIIENKO'"
      ]
     },
     "execution_count": 47,
     "metadata": {},
     "output_type": "execute_result"
    }
   ],
   "source": [
    "name_surname.upper()"
   ]
  },
  {
   "cell_type": "markdown",
   "id": "20a20420",
   "metadata": {
    "pycharm": {
     "name": "#%% md\n"
    }
   },
   "source": [
    "Очікувана відповідь (тільки з вашими даними): 'HANNA PYLIEVA'"
   ]
  },
  {
   "cell_type": "markdown",
   "id": "e7e1c7ae",
   "metadata": {
    "pycharm": {
     "name": "#%% md\n"
    }
   },
   "source": [
    "5.Виведіть третю літеру вашого `name_surname`. Тут уважно, треба саме третя літера. Згадайте, з якого значення починається індексування значень в Python."
   ]
  },
  {
   "cell_type": "code",
   "execution_count": 48,
   "id": "191baf85",
   "metadata": {
    "pycharm": {
     "name": "#%%\n"
    }
   },
   "outputs": [
    {
     "data": {
      "text/plain": [
       "'t'"
      ]
     },
     "execution_count": 48,
     "metadata": {},
     "output_type": "execute_result"
    }
   ],
   "source": [
    "name_surname [2]"
   ]
  },
  {
   "cell_type": "markdown",
   "id": "181c489d",
   "metadata": {
    "pycharm": {
     "name": "#%% md\n"
    }
   },
   "source": [
    "Очікувана відповідь (тільки з вашими даними): 'n'"
   ]
  },
  {
   "cell_type": "markdown",
   "id": "1f3cc1a7",
   "metadata": {
    "pycharm": {
     "name": "#%% md\n"
    }
   },
   "source": [
    "6.Виведіть першу та останню літеру вашого прізвища."
   ]
  },
  {
   "cell_type": "code",
   "execution_count": 49,
   "id": "e6278814",
   "metadata": {},
   "outputs": [
    {
     "data": {
      "text/plain": [
       "19"
      ]
     },
     "execution_count": 49,
     "metadata": {},
     "output_type": "execute_result"
    }
   ],
   "source": [
    "len (name_surname)"
   ]
  },
  {
   "cell_type": "code",
   "execution_count": 50,
   "id": "79d10988",
   "metadata": {},
   "outputs": [
    {
     "data": {
      "text/plain": [
       "'Nataliia Hordiienko'"
      ]
     },
     "execution_count": 50,
     "metadata": {},
     "output_type": "execute_result"
    }
   ],
   "source": [
    "name_surname [0:19]"
   ]
  },
  {
   "cell_type": "code",
   "execution_count": 51,
   "id": "ef901153",
   "metadata": {},
   "outputs": [
    {
     "data": {
      "text/plain": [
       "'No'"
      ]
     },
     "execution_count": 51,
     "metadata": {},
     "output_type": "execute_result"
    }
   ],
   "source": [
    "name_surname [0] + name_surname [18]"
   ]
  },
  {
   "cell_type": "code",
   "execution_count": 52,
   "id": "4b46fb6e",
   "metadata": {},
   "outputs": [
    {
     "data": {
      "text/plain": [
       "'N o'"
      ]
     },
     "execution_count": 52,
     "metadata": {},
     "output_type": "execute_result"
    }
   ],
   "source": [
    "name_surname [0] + ' ' + name_surname [18]"
   ]
  },
  {
   "cell_type": "code",
   "execution_count": 111,
   "id": "7a2b6af0",
   "metadata": {},
   "outputs": [
    {
     "ename": "SyntaxError",
     "evalue": "unexpected character after line continuation character (1350538375.py, line 1)",
     "output_type": "error",
     "traceback": [
      "\u001b[1;36m  File \u001b[1;32m\"C:\\Users\\gnvda\\AppData\\Local\\Temp\\ipykernel_7184\\1350538375.py\"\u001b[1;36m, line \u001b[1;32m1\u001b[0m\n\u001b[1;33m    name_surname [0] \\t name_surname [18]\u001b[0m\n\u001b[1;37m                      ^\u001b[0m\n\u001b[1;31mSyntaxError\u001b[0m\u001b[1;31m:\u001b[0m unexpected character after line continuation character\n"
     ]
    }
   ],
   "source": [
    "name_surname [0] \\t name_surname [18]"
   ]
  },
  {
   "cell_type": "markdown",
   "id": "08e2713e",
   "metadata": {},
   "source": [
    "####  Чому при використанні /n код не працює, як правильно написати код з використанням /n та /t. Дякую :)"
   ]
  },
  {
   "cell_type": "markdown",
   "id": "df1b4a52",
   "metadata": {
    "pycharm": {
     "name": "#%% md\n"
    }
   },
   "source": [
    "Очікувана відповідь (тільки з вашими даними): ('P', 'a')"
   ]
  },
  {
   "cell_type": "markdown",
   "id": "5504a705",
   "metadata": {},
   "source": [
    "#### змінений код "
   ]
  },
  {
   "cell_type": "code",
   "execution_count": 60,
   "id": "4d40251f",
   "metadata": {},
   "outputs": [
    {
     "data": {
      "text/plain": [
       "('N', 'o')"
      ]
     },
     "execution_count": 60,
     "metadata": {},
     "output_type": "execute_result"
    }
   ],
   "source": [
    "name_surname [0] , name_surname [-1]"
   ]
  },
  {
   "cell_type": "markdown",
   "id": "0ad4f21f",
   "metadata": {
    "pycharm": {
     "name": "#%% md\n"
    }
   },
   "source": [
    "7.Виведіть довжину вашого прізвища."
   ]
  },
  {
   "cell_type": "code",
   "execution_count": 11,
   "id": "8aadf013",
   "metadata": {
    "pycharm": {
     "name": "#%%\n"
    }
   },
   "outputs": [
    {
     "data": {
      "text/plain": [
       "10"
      ]
     },
     "execution_count": 11,
     "metadata": {},
     "output_type": "execute_result"
    }
   ],
   "source": [
    "len (surname)"
   ]
  },
  {
   "cell_type": "markdown",
   "id": "ec1a8d38",
   "metadata": {
    "pycharm": {
     "name": "#%% md\n"
    }
   },
   "source": [
    "Очікувана відповідь (тільки з вашими даними): 7"
   ]
  },
  {
   "cell_type": "markdown",
   "id": "fc4ee632",
   "metadata": {
    "pycharm": {
     "name": "#%% md\n"
    }
   },
   "source": [
    "8.Виведіть кількість літер `a` у столиці Мадагаскару `Antananarivo`. Важливо врахувати всі літери, як великі, так і маленькі."
   ]
  },
  {
   "cell_type": "code",
   "execution_count": 12,
   "id": "4c83c237",
   "metadata": {
    "pycharm": {
     "name": "#%%\n"
    }
   },
   "outputs": [
    {
     "data": {
      "text/plain": [
       "4"
      ]
     },
     "execution_count": 12,
     "metadata": {},
     "output_type": "execute_result"
    }
   ],
   "source": [
    "s = \"Antananarivo\"\n",
    "s.count('a') + s.count('A')"
   ]
  },
  {
   "cell_type": "markdown",
   "id": "3b822954",
   "metadata": {
    "pycharm": {
     "name": "#%% md\n"
    }
   },
   "source": [
    "Очікувана відповідь: 4"
   ]
  },
  {
   "cell_type": "markdown",
   "id": "0f3e7772",
   "metadata": {
    "pycharm": {
     "name": "#%% md\n"
    }
   },
   "source": [
    "# Робота з числами та операторами"
   ]
  },
  {
   "cell_type": "markdown",
   "id": "0be48f79",
   "metadata": {
    "pycharm": {
     "name": "#%% md\n"
    }
   },
   "source": [
    "9.Створіть змінні a, b, c та d цілочисельного типу, задайде їм значення відповідно 1, 2, 3, 4, та обчисліть з допомогою Python наступний вираз:  $$ \\frac{(a+b) * c}{d} $$"
   ]
  },
  {
   "cell_type": "code",
   "execution_count": 62,
   "id": "9d7e1690",
   "metadata": {
    "pycharm": {
     "name": "#%%\n"
    }
   },
   "outputs": [],
   "source": [
    "def add_numbers(a, b, c, d):\n",
    "    x1 = a + b\n",
    "    y1 = x1 * c\n",
    "    x2 = y1 / d\n",
    "    return x2"
   ]
  },
  {
   "cell_type": "code",
   "execution_count": 63,
   "id": "216f4f13",
   "metadata": {},
   "outputs": [
    {
     "data": {
      "text/plain": [
       "2.25"
      ]
     },
     "execution_count": 63,
     "metadata": {},
     "output_type": "execute_result"
    }
   ],
   "source": [
    "add_numbers(1,2,3,4)"
   ]
  },
  {
   "cell_type": "markdown",
   "id": "b4183f4f",
   "metadata": {
    "pycharm": {
     "name": "#%% md\n"
    }
   },
   "source": [
    "Очікувана відповідь: 2.25"
   ]
  },
  {
   "cell_type": "markdown",
   "id": "23e8d8f0",
   "metadata": {
    "pycharm": {
     "name": "#%% md\n"
    }
   },
   "source": [
    "10.На змінних, створених в попердньому завданні, обчисліть наступний вираз з допомогою Python: $$ (a^b + c^d)^2 $$"
   ]
  },
  {
   "cell_type": "code",
   "execution_count": 64,
   "id": "2b3cf9ae",
   "metadata": {
    "pycharm": {
     "name": "#%%\n"
    }
   },
   "outputs": [],
   "source": [
    "def add_numbers(a, b, c, d):\n",
    "    x3 = a ** b\n",
    "    x4 = c ** d\n",
    "    x5 = x3 + x4\n",
    "    x6 = x5 ** 2\n",
    "    return x6"
   ]
  },
  {
   "cell_type": "code",
   "execution_count": 65,
   "id": "fd922358",
   "metadata": {},
   "outputs": [
    {
     "data": {
      "text/plain": [
       "6724"
      ]
     },
     "execution_count": 65,
     "metadata": {},
     "output_type": "execute_result"
    }
   ],
   "source": [
    "add_numbers(1,2,3,4)"
   ]
  },
  {
   "cell_type": "markdown",
   "id": "2d5f632b",
   "metadata": {
    "pycharm": {
     "name": "#%% md\n"
    }
   },
   "source": [
    "Очікувана відповідь: 6724"
   ]
  },
  {
   "cell_type": "markdown",
   "id": "8365109c",
   "metadata": {
    "pycharm": {
     "name": "#%% md\n"
    }
   },
   "source": [
    "# Робота зі колекціями"
   ]
  },
  {
   "cell_type": "markdown",
   "id": "efd4a344",
   "metadata": {
    "pycharm": {
     "name": "#%% md\n"
    }
   },
   "source": [
    "У нас є наступний список:"
   ]
  },
  {
   "cell_type": "code",
   "execution_count": 1,
   "id": "33f9a114",
   "metadata": {
    "pycharm": {
     "name": "#%%\n"
    }
   },
   "outputs": [],
   "source": [
    "l = [\n",
    "    78, 12, 14, 27, 47, 28, 51, 46, 94, 37, 42, 20, 52, 33, 11, 11, 51,\n",
    "    20, 81, 54, 86, 51, 38, 42, 49, 99, 76, 17,  9, 23, 97, 29, 29, 63,\n",
    "    40, 11, 31, 76, 15, 21, 29, 75, 35,  2, 10, 71, 17, 10, 13,  7, 44,\n",
    "    12, 19, 61, 13, 25, 62, 46, 10, 44, 75, 57, 20, 57,  3, 44, 16, 28,\n",
    "    79, 57, 62, 70, 95,  8, 47, 82, 80, 45, 36, 44, 79, 95, 73, 42, 29,\n",
    "    83, 80, 66, 56,  8, 73,  5, 99, 65, 65, 98, 17, 36, 16, 60\n",
    "]"
   ]
  },
  {
   "cell_type": "markdown",
   "id": "77d55ecf",
   "metadata": {
    "pycharm": {
     "name": "#%% md\n"
    }
   },
   "source": [
    "Будемо з ним працювати в наступних завданнях."
   ]
  },
  {
   "cell_type": "markdown",
   "id": "7a9d114b",
   "metadata": {
    "pycharm": {
     "name": "#%% md\n"
    }
   },
   "source": [
    "11.Виведіть 5 перших елементів списку"
   ]
  },
  {
   "cell_type": "code",
   "execution_count": 2,
   "id": "1a6e26e9",
   "metadata": {
    "pycharm": {
     "name": "#%%\n"
    }
   },
   "outputs": [
    {
     "data": {
      "text/plain": [
       "[78, 12, 14, 27, 47]"
      ]
     },
     "execution_count": 2,
     "metadata": {},
     "output_type": "execute_result"
    }
   ],
   "source": [
    "l[0:5]"
   ]
  },
  {
   "cell_type": "markdown",
   "id": "0c995ae4",
   "metadata": {
    "pycharm": {
     "name": "#%% md\n"
    }
   },
   "source": [
    "Очікувана відповідь: [78, 12, 14, 27, 47]"
   ]
  },
  {
   "cell_type": "markdown",
   "id": "58a98ef0",
   "metadata": {
    "pycharm": {
     "name": "#%% md\n"
    }
   },
   "source": [
    "12.Виведіть максимальний і мінімальний елемент у списку"
   ]
  },
  {
   "cell_type": "code",
   "execution_count": 3,
   "id": "008f459c",
   "metadata": {
    "pycharm": {
     "name": "#%%\n"
    }
   },
   "outputs": [
    {
     "data": {
      "text/plain": [
       "99"
      ]
     },
     "execution_count": 3,
     "metadata": {},
     "output_type": "execute_result"
    }
   ],
   "source": [
    "max (l) "
   ]
  },
  {
   "cell_type": "code",
   "execution_count": 4,
   "id": "75c599cb",
   "metadata": {},
   "outputs": [
    {
     "data": {
      "text/plain": [
       "2"
      ]
     },
     "execution_count": 4,
     "metadata": {},
     "output_type": "execute_result"
    }
   ],
   "source": [
    "min (l)"
   ]
  },
  {
   "cell_type": "code",
   "execution_count": 5,
   "id": "e75dc22b",
   "metadata": {},
   "outputs": [
    {
     "name": "stdout",
     "output_type": "stream",
     "text": [
      "Max element  99\n",
      "Min element  2\n"
     ]
    }
   ],
   "source": [
    "print('Max element ', max(l))\n",
    "print('Min element ', min(l))"
   ]
  },
  {
   "cell_type": "markdown",
   "id": "c19c1cf7",
   "metadata": {
    "pycharm": {
     "name": "#%% md\n"
    }
   },
   "source": [
    "Очікувана відповідь: \n",
    "\n",
    "```\n",
    "Max element  99\n",
    "Max element  2\n",
    "```"
   ]
  },
  {
   "cell_type": "markdown",
   "id": "eef1aae7",
   "metadata": {
    "pycharm": {
     "name": "#%% md\n"
    }
   },
   "source": [
    "13.Чи є в списку елементи, які повторюються? Перевірте це програмно і з допомогою інструкцій `if ... else` виведіть на екран відповідь \"Так, є елементи, які повторюються\", або \"Ні, всі елементи унікальні\".\n",
    "Важливо це зробити без використання імпортів будь-яких бібліотек, на чистому Python так би мовити."
   ]
  },
  {
   "cell_type": "code",
   "execution_count": 6,
   "id": "de0eea83",
   "metadata": {},
   "outputs": [
    {
     "name": "stdout",
     "output_type": "stream",
     "text": [
      "Так, є елементи, які повторюються\n"
     ]
    }
   ],
   "source": [
    "if len(set(l)) == len(l):\n",
    "    print(\"Ні, всі елементи унікальні\")\n",
    "else:\n",
    "    print(\"Так, є елементи, які повторюються\")"
   ]
  },
  {
   "cell_type": "markdown",
   "id": "8b1a6156",
   "metadata": {},
   "source": [
    "## чому раніше код считувало а потім перестало"
   ]
  },
  {
   "cell_type": "markdown",
   "id": "cee3dda8",
   "metadata": {
    "pycharm": {
     "name": "#%% md\n"
    }
   },
   "source": [
    "14.Для кожного унікального елементу списку `l` знайдіть, скільки разів він повторюється та запишіть результат у змінну `n_repeats`. Виведіть `n_repeats` на екран."
   ]
  },
  {
   "cell_type": "code",
   "execution_count": 7,
   "id": "43e7ca11",
   "metadata": {
    "pycharm": {
     "name": "#%%\n"
    }
   },
   "outputs": [
    {
     "name": "stdout",
     "output_type": "stream",
     "text": [
      "{78: 1, 12: 2, 14: 1, 27: 1, 47: 2, 28: 2, 51: 3, 46: 2, 94: 1, 37: 1, 42: 3, 20: 3, 52: 1, 33: 1, 11: 3, 81: 1, 54: 1, 86: 1, 38: 1, 49: 1, 99: 2, 76: 2, 17: 3, 9: 1, 23: 1, 97: 1, 29: 4, 63: 1, 40: 1, 31: 1, 15: 1, 21: 1, 75: 2, 35: 1, 2: 1, 10: 3, 71: 1, 13: 2, 7: 1, 44: 4, 19: 1, 61: 1, 25: 1, 62: 2, 57: 3, 3: 1, 16: 2, 79: 2, 70: 1, 95: 2, 8: 2, 82: 1, 80: 2, 45: 1, 36: 2, 73: 2, 83: 1, 66: 1, 56: 1, 5: 1, 65: 2, 98: 1, 60: 1}\n"
     ]
    }
   ],
   "source": [
    "my_set1 = dict()\n",
    "for item in l:\n",
    "    n_repeats = 0\n",
    "    for repeats in l:\n",
    "        if repeats == item:\n",
    "            n_repeats += 1\n",
    "    my_set1[item ] = n_repeats\n",
    "print(my_set1, end=\"\\n\")"
   ]
  },
  {
   "cell_type": "markdown",
   "id": "6c83f3a4",
   "metadata": {},
   "source": [
    "#### якщо додати end=\"\\n\" чому не змінюється формат"
   ]
  },
  {
   "cell_type": "markdown",
   "id": "9858eefd",
   "metadata": {
    "pycharm": {
     "name": "#%% md\n"
    }
   },
   "source": [
    "Очікуваний результат (три крапки - для скорочення, у вас буде виведений повний набір унікальних елементів): \n",
    "```\n",
    "{2: 1,\n",
    " 3: 1,\n",
    " 5: 1,\n",
    "    ...\n",
    " 97: 1,\n",
    " 98: 1,\n",
    " 99: 2}\n",
    "```"
   ]
  },
  {
   "cell_type": "markdown",
   "id": "10c98ea7",
   "metadata": {
    "pycharm": {
     "name": "#%% md\n"
    }
   },
   "source": [
    "15.Знайдіть три найменші унікальні елементи в списку `l`."
   ]
  },
  {
   "cell_type": "code",
   "execution_count": 8,
   "id": "8cabdfc7",
   "metadata": {
    "pycharm": {
     "name": "#%%\n"
    }
   },
   "outputs": [
    {
     "name": "stdout",
     "output_type": "stream",
     "text": [
      "[2, 3, 5]\n"
     ]
    }
   ],
   "source": [
    "three_numbers = list (set(l))\n",
    "print (three_numbers [0:3])"
   ]
  },
  {
   "cell_type": "code",
   "execution_count": null,
   "id": "3034d1b3",
   "metadata": {},
   "outputs": [],
   "source": []
  },
  {
   "cell_type": "markdown",
   "id": "672d2981",
   "metadata": {
    "pycharm": {
     "name": "#%% md\n"
    }
   },
   "source": [
    "Очікувана відповідь: [2, 3, 5]\n"
   ]
  },
  {
   "cell_type": "markdown",
   "id": "f7653e42",
   "metadata": {
    "pycharm": {
     "name": "#%% md\n"
    }
   },
   "source": [
    "16.Використовуючи `n_repeats` скажіть, скільки разів повторюється кожен з трьох найменших елементів в списку."
   ]
  },
  {
   "cell_type": "code",
   "execution_count": 75,
   "id": "ea8630f0",
   "metadata": {
    "pycharm": {
     "name": "#%%\n"
    }
   },
   "outputs": [
    {
     "name": "stdout",
     "output_type": "stream",
     "text": [
      "{2: 1, 3: 1, 5: 1, 7: 1, 8: 1, 9: 1, 10: 1, 11: 1, 12: 1, 13: 1, 14: 1, 15: 1, 16: 1, 17: 1, 19: 1, 20: 1, 21: 1, 23: 1, 25: 1, 27: 1, 28: 1, 29: 1, 31: 1, 33: 1, 35: 1, 36: 1, 37: 1, 38: 1, 40: 1, 42: 1, 44: 1, 45: 1, 46: 1, 47: 1, 49: 1, 51: 1, 52: 1, 54: 1, 56: 1, 57: 1, 60: 1, 61: 1, 62: 1, 63: 1, 65: 1, 66: 1, 70: 1, 71: 1, 73: 1, 75: 1, 76: 1, 78: 1, 79: 1, 80: 1, 81: 1, 82: 1, 83: 1, 86: 1, 94: 1, 95: 1, 97: 1, 98: 1, 99: 1}\n"
     ]
    }
   ],
   "source": [
    "my_set2 = dict()\n",
    "for item in set (l):\n",
    "    n_repeats = 0\n",
    "    for repeats in set (l):\n",
    "        if repeats == item:\n",
    "            n_repeats += 1\n",
    "    my_set2[item ] = n_repeats\n",
    "print (my_set2.index(0))"
   ]
  },
  {
   "cell_type": "markdown",
   "id": "4e35a7b4",
   "metadata": {},
   "source": [
    "new_dict1 = {}\n",
    "for key in my_set2:\n",
    "    if key == '2'\n",
    "print (new_dict1)"
   ]
  },
  {
   "cell_type": "code",
   "execution_count": 146,
   "id": "49ea0441",
   "metadata": {},
   "outputs": [
    {
     "name": "stdout",
     "output_type": "stream",
     "text": [
      "{}\n"
     ]
    }
   ],
   "source": [
    "new_dict1 = {}\n",
    "for key in new_dict1:\n",
    "    new_dict1 = n_repeats\n",
    "print (new_dict1)"
   ]
  },
  {
   "cell_type": "code",
   "execution_count": 144,
   "id": "0c4be6b7",
   "metadata": {},
   "outputs": [
    {
     "name": "stdout",
     "output_type": "stream",
     "text": [
      "{78}\n"
     ]
    }
   ],
   "source": [
    "new_dict1 = {}\n",
    "for key  in new_dict1.items():\n",
    "    new_dict1 = n_repeats\n",
    "print ({key})"
   ]
  },
  {
   "cell_type": "markdown",
   "id": "dfcfb47d",
   "metadata": {
    "pycharm": {
     "name": "#%% md\n"
    }
   },
   "source": [
    "Очікувана відповідь:  {2: 1, 3: 1, 5: 1}"
   ]
  },
  {
   "cell_type": "code",
   "execution_count": null,
   "id": "79a44315",
   "metadata": {},
   "outputs": [],
   "source": []
  },
  {
   "cell_type": "markdown",
   "id": "4e43e698",
   "metadata": {
    "pycharm": {
     "name": "#%% md\n"
    }
   },
   "source": [
    "17.Створіть новий список `l2`, який містить кожен 11-й елемент списку `l`. Виведіть `l2` на екран.  \n",
    "Памʼятаємо, щоб наприклад, перший 11-и1 елемент списку має індекс 10."
   ]
  },
  {
   "cell_type": "code",
   "execution_count": 116,
   "id": "0ac657de",
   "metadata": {
    "pycharm": {
     "name": "#%%\n"
    }
   },
   "outputs": [
    {
     "data": {
      "text/plain": [
       "42"
      ]
     },
     "execution_count": 116,
     "metadata": {},
     "output_type": "execute_result"
    }
   ],
   "source": [
    "my_list_12 = l \n",
    "my_list_12 [10]"
   ]
  },
  {
   "cell_type": "code",
   "execution_count": 173,
   "id": "3d83e3f0",
   "metadata": {},
   "outputs": [
    {
     "data": {
      "text/plain": [
       "[42, 51, 29, 2, 13, 44, 80, 66, 16]"
      ]
     },
     "execution_count": 173,
     "metadata": {},
     "output_type": "execute_result"
    }
   ],
   "source": [
    "my_list_12 = l \n",
    "my_list_12 [10:99:11]"
   ]
  },
  {
   "cell_type": "code",
   "execution_count": 171,
   "id": "894f0b8b",
   "metadata": {},
   "outputs": [
    {
     "data": {
      "text/plain": [
       "100"
      ]
     },
     "execution_count": 171,
     "metadata": {},
     "output_type": "execute_result"
    }
   ],
   "source": [
    " len (my_list_12)"
   ]
  },
  {
   "cell_type": "code",
   "execution_count": 184,
   "id": "283527d8",
   "metadata": {},
   "outputs": [
    {
     "name": "stdout",
     "output_type": "stream",
     "text": [
      "[42, 51, 29, 2, 13, 44, 80, 66, 16]\n"
     ]
    }
   ],
   "source": [
    "my_list_12 = l [10:99:11]\n",
    "print (my_list_12)"
   ]
  },
  {
   "cell_type": "markdown",
   "id": "0c734831",
   "metadata": {
    "ExecuteTime": {
     "end_time": "2023-01-20T20:10:37.303981Z",
     "start_time": "2023-01-20T20:10:37.275706Z"
    },
    "pycharm": {
     "name": "#%%\n"
    }
   },
   "source": [
    "Очікуваний результат: `[42, 51, 29, 2, 13, 44, 80, 66, 16]`"
   ]
  },
  {
   "cell_type": "markdown",
   "id": "fca24ff1",
   "metadata": {
    "pycharm": {
     "name": "#%% md\n"
    }
   },
   "source": [
    "18.Створіть новий список `l2_squared`, де кожен елемент списку `l2` є піднесеним до степіня 2. "
   ]
  },
  {
   "cell_type": "code",
   "execution_count": 187,
   "id": "e36089e5",
   "metadata": {},
   "outputs": [
    {
     "data": {
      "text/plain": [
       "{2, 13, 16, 29, 42, 44, 51, 66, 80}"
      ]
     },
     "execution_count": 187,
     "metadata": {},
     "output_type": "execute_result"
    }
   ],
   "source": [
    "set (my_list_12)"
   ]
  },
  {
   "cell_type": "code",
   "execution_count": 190,
   "id": "fa043249",
   "metadata": {
    "pycharm": {
     "name": "#%%\n"
    }
   },
   "outputs": [
    {
     "name": "stdout",
     "output_type": "stream",
     "text": [
      "{6400, 256, 1764, 4, 4356, 841, 2601, 169, 1936}\n"
     ]
    }
   ],
   "source": [
    "l2_squared = set ()\n",
    "for item in my_list_12:\n",
    "    l2_squared.add(item ** 2)\n",
    "print (l2_squared)"
   ]
  },
  {
   "cell_type": "markdown",
   "id": "fa90daf3",
   "metadata": {},
   "source": [
    "### Якщо перетворюю на сет то змінюється порядок чисел, як це змінити"
   ]
  },
  {
   "cell_type": "markdown",
   "id": "0dce0d8e",
   "metadata": {
    "pycharm": {
     "name": "#%% md\n"
    }
   },
   "source": [
    "Очікуваний результат: `[1764, 2601, 841, 4, 169, 1936, 6400, 4356, 256]`"
   ]
  },
  {
   "cell_type": "markdown",
   "id": "c267a553",
   "metadata": {
    "pycharm": {
     "name": "#%% md\n"
    }
   },
   "source": [
    "19.Знайдіть суму всіх елементів списку `l2` та виведіть її на екран."
   ]
  },
  {
   "cell_type": "code",
   "execution_count": 199,
   "id": "7f37b29f",
   "metadata": {
    "pycharm": {
     "name": "#%%\n"
    }
   },
   "outputs": [
    {
     "data": {
      "text/plain": [
       "343"
      ]
     },
     "execution_count": 199,
     "metadata": {},
     "output_type": "execute_result"
    }
   ],
   "source": [
    "sum (l2_squared)"
   ]
  },
  {
   "cell_type": "markdown",
   "id": "b12acfc2",
   "metadata": {
    "pycharm": {
     "name": "#%% md\n"
    }
   },
   "source": [
    "20.Знайдіть середнє значення елементів списку `l2`, збережіть результат у змінну `l2_mean` та виведіть новостворену змінну та ії тип на екран."
   ]
  },
  {
   "cell_type": "code",
   "execution_count": 203,
   "id": "51fbb32b",
   "metadata": {
    "pycharm": {
     "name": "#%%\n"
    }
   },
   "outputs": [
    {
     "name": "stdout",
     "output_type": "stream",
     "text": [
      "38.111111111111114\n"
     ]
    },
    {
     "data": {
      "text/plain": [
       "float"
      ]
     },
     "execution_count": 203,
     "metadata": {},
     "output_type": "execute_result"
    }
   ],
   "source": [
    "l2_mean = sum (l2_squared) / len (l2_squared)\n",
    "print (l2_mean)\n",
    "type (l2_mean)"
   ]
  },
  {
   "cell_type": "markdown",
   "id": "079359aa",
   "metadata": {
    "pycharm": {
     "name": "#%% md\n"
    }
   },
   "source": [
    "21.Створіть новий список `l2_gt_mean`, за наступним правилом: \"якщо цей елемент спиcку `l2` є більше за `l2_mean`, то запишемо 1, інакше 0. Виведіть новий список на екран."
   ]
  },
  {
   "cell_type": "code",
   "execution_count": 209,
   "id": "6e69be6f",
   "metadata": {
    "pycharm": {
     "name": "#%%\n"
    }
   },
   "outputs": [
    {
     "name": "stdout",
     "output_type": "stream",
     "text": [
      "[1, 1, 0, 0, 0, 1, 1, 1, 0]\n"
     ]
    }
   ],
   "source": [
    "a=0\n",
    "b=1\n",
    "l2_gt_mean = []\n",
    "for item in my_list_12:\n",
    "    if item > l2_mean:\n",
    "        l2_gt_mean.append(b)\n",
    "    else:\n",
    "        l2_gt_mean.append(a)\n",
    "print (l2_gt_mean)\n",
    "    "
   ]
  },
  {
   "cell_type": "code",
   "execution_count": 206,
   "id": "d5752972",
   "metadata": {},
   "outputs": [
    {
     "data": {
      "text/plain": [
       "[42, 51, 29, 2, 13, 44, 80, 66, 16]"
      ]
     },
     "execution_count": 206,
     "metadata": {},
     "output_type": "execute_result"
    }
   ],
   "source": [
    "my_list_12"
   ]
  },
  {
   "cell_type": "code",
   "execution_count": 207,
   "id": "ccd4f602",
   "metadata": {},
   "outputs": [
    {
     "data": {
      "text/plain": [
       "38.111111111111114"
      ]
     },
     "execution_count": 207,
     "metadata": {},
     "output_type": "execute_result"
    }
   ],
   "source": [
    "l2_mean"
   ]
  },
  {
   "cell_type": "markdown",
   "id": "3079f1e6",
   "metadata": {},
   "source": [
    "Очікуваний результат: `[1, 1, 0, 0, 0, 1, 1, 1, 0]`"
   ]
  },
  {
   "cell_type": "markdown",
   "id": "bb70f24a",
   "metadata": {
    "pycharm": {
     "name": "#%% md\n"
    }
   },
   "source": [
    "# Ураа!! Ви завершили перше домашнє завдання!!!  \n",
    "Аби його здати - залийте ноутбук у гітхаб репозиторій, який ви створили у перші дні навчання на курсі, та додайте посилання на файл, заповнишви форму https://forms.gle/EvxoiJiBTkuxFmhV7   \n",
    "Так тримати! 🚀🚀🚀\n"
   ]
  }
 ],
 "metadata": {
  "kernelspec": {
   "display_name": "Python 3 (ipykernel)",
   "language": "python",
   "name": "python3"
  },
  "language_info": {
   "codemirror_mode": {
    "name": "ipython",
    "version": 3
   },
   "file_extension": ".py",
   "mimetype": "text/x-python",
   "name": "python",
   "nbconvert_exporter": "python",
   "pygments_lexer": "ipython3",
   "version": "3.9.13"
  },
  "toc": {
   "base_numbering": 1,
   "nav_menu": {},
   "number_sections": true,
   "sideBar": true,
   "skip_h1_title": false,
   "title_cell": "Table of Contents",
   "title_sidebar": "Contents",
   "toc_cell": false,
   "toc_position": {},
   "toc_section_display": true,
   "toc_window_display": false
  }
 },
 "nbformat": 4,
 "nbformat_minor": 5
}
